{
 "cells": [
  {
   "cell_type": "markdown",
   "metadata": {},
   "source": [
    "## Setting up"
   ]
  },
  {
   "cell_type": "code",
   "execution_count": 70,
   "metadata": {},
   "outputs": [],
   "source": [
    "from numpy import (\n",
    "    pi,inf,linspace,zeros,arange,sin,cos,tan,exp,maximum,abs,\n",
    "    dot, set_printoptions\n",
    "    )\n",
    "set_printoptions(linewidth=500)\n",
    "from numpy.linalg import norm, matrix_power, eigvals\n",
    "from scipy.linalg import toeplitz\n",
    "\n",
    "from matplotlib.style import use\n",
    "use(\"seaborn\")\n",
    "\n",
    "from pltconfig import *"
   ]
  },
  {
   "cell_type": "markdown",
   "metadata": {},
   "source": [
    "# Problem 0"
   ]
  },
  {
   "cell_type": "markdown",
   "metadata": {},
   "source": [
    "## Part B"
   ]
  },
  {
   "cell_type": "code",
   "execution_count": 71,
   "metadata": {},
   "outputs": [],
   "source": [
    "class q0b(object):\n",
    "    \n",
    "    def __init__(self, N=2):\n",
    "        \n",
    "        # check for even\n",
    "        assert (N % 2 == 0), \"N needs to be even\"\n",
    "        \n",
    "        self.N = N\n",
    "        \n",
    "        self.D = self.calc_D()\n",
    "        self.D2 = self.calc_D2()\n",
    "        \n",
    "        self.D_spectrum = eigvals(self.D)\n",
    "        self.D_spectral_rad = self.D_spectrum.__abs__().max()\n",
    "        \n",
    "    def calc_D(self):\n",
    "        \n",
    "        N = self.N\n",
    "        h = 2*pi/self.N\n",
    "        x = h*arange(1,N+1)\n",
    "        col = zeros(N)\n",
    "        \n",
    "        col[0] = 0.0\n",
    "        col[1:] = 0.5*((-1.0)**arange(1,N))/tan(arange(1,N)*h/2.0)\n",
    "        \n",
    "        row = zeros(N)\n",
    "        row[0] = col[0]\n",
    "        row[1:] = col[N-1:0:-1]\n",
    "        \n",
    "        return toeplitz(col,row)\n",
    "    \n",
    "    def calc_D2(self):\n",
    "        \n",
    "        N = self.N\n",
    "        h = 2*pi/self.N\n",
    "        x = h*arange(1,N+1)\n",
    "        col = zeros(N)\n",
    "        \n",
    "        col[0] = -((1./6)+((pi**2)/(3*h*h)))\n",
    "        col[1:] = 0.5*((-1.0)**arange(1,N))/(sin(arange(1,N)*h/2.0)**2)\n",
    "        \n",
    "        row = zeros(N)\n",
    "        row[0] = col[0]\n",
    "        row[1:] = col[N-1:0:-1]\n",
    "        \n",
    "        return toeplitz(col,row)"
   ]
  },
  {
   "cell_type": "markdown",
   "metadata": {},
   "source": [
    "Creating the object for N=2"
   ]
  },
  {
   "cell_type": "code",
   "execution_count": 72,
   "metadata": {},
   "outputs": [],
   "source": [
    "N2 = q0b(N=2)"
   ]
  },
  {
   "cell_type": "markdown",
   "metadata": {},
   "source": [
    "Showing the matrix $D_{N=2}$"
   ]
  },
  {
   "cell_type": "code",
   "execution_count": 73,
   "metadata": {},
   "outputs": [
    {
     "data": {
      "text/plain": [
       "array([[ 0.000000e+00, -3.061617e-17],\n",
       "       [-3.061617e-17,  0.000000e+00]])"
      ]
     },
     "execution_count": 73,
     "metadata": {},
     "output_type": "execute_result"
    }
   ],
   "source": [
    "N2.D"
   ]
  },
  {
   "cell_type": "markdown",
   "metadata": {},
   "source": [
    "Computing the square of the matrix $D_{N=2}^{2}$"
   ]
  },
  {
   "cell_type": "code",
   "execution_count": 74,
   "metadata": {},
   "outputs": [
    {
     "data": {
      "text/plain": [
       "array([[9.37349864e-34, 0.00000000e+00],\n",
       "       [0.00000000e+00, 9.37349864e-34]])"
      ]
     },
     "execution_count": 74,
     "metadata": {},
     "output_type": "execute_result"
    }
   ],
   "source": [
    "matrix_power(N2.D,2)"
   ]
  },
  {
   "cell_type": "code",
   "execution_count": 75,
   "metadata": {},
   "outputs": [
    {
     "data": {
      "text/plain": [
       "array([[-0.5, -0.5],\n",
       "       [-0.5, -0.5]])"
      ]
     },
     "execution_count": 75,
     "metadata": {},
     "output_type": "execute_result"
    }
   ],
   "source": [
    "N2.D2"
   ]
  },
  {
   "cell_type": "markdown",
   "metadata": {},
   "source": [
    "The spectrum of the differentiation matrix is:"
   ]
  },
  {
   "cell_type": "code",
   "execution_count": 76,
   "metadata": {},
   "outputs": [
    {
     "data": {
      "text/plain": [
       "array([-3.061617e-17,  3.061617e-17])"
      ]
     },
     "execution_count": 76,
     "metadata": {},
     "output_type": "execute_result"
    }
   ],
   "source": [
    "N2.D_spectrum"
   ]
  },
  {
   "cell_type": "markdown",
   "metadata": {},
   "source": [
    "The spectral radius of the differentiation matrix is:"
   ]
  },
  {
   "cell_type": "code",
   "execution_count": 77,
   "metadata": {},
   "outputs": [
    {
     "data": {
      "text/plain": [
       "3.061616997868383e-17"
      ]
     },
     "execution_count": 77,
     "metadata": {},
     "output_type": "execute_result"
    }
   ],
   "source": [
    "N2.D_spectral_rad"
   ]
  },
  {
   "cell_type": "markdown",
   "metadata": {},
   "source": [
    "Creating the object for N=4"
   ]
  },
  {
   "cell_type": "code",
   "execution_count": 78,
   "metadata": {},
   "outputs": [],
   "source": [
    "N4 = q0b(N=4)"
   ]
  },
  {
   "cell_type": "markdown",
   "metadata": {},
   "source": [
    "Showing the matrix $D_{N=4}$"
   ]
  },
  {
   "cell_type": "code",
   "execution_count": 79,
   "metadata": {},
   "outputs": [
    {
     "data": {
      "text/plain": [
       "array([[ 0.000000e+00,  5.000000e-01,  3.061617e-17, -5.000000e-01],\n",
       "       [-5.000000e-01,  0.000000e+00,  5.000000e-01,  3.061617e-17],\n",
       "       [ 3.061617e-17, -5.000000e-01,  0.000000e+00,  5.000000e-01],\n",
       "       [ 5.000000e-01,  3.061617e-17, -5.000000e-01,  0.000000e+00]])"
      ]
     },
     "execution_count": 79,
     "metadata": {},
     "output_type": "execute_result"
    }
   ],
   "source": [
    "N4.D"
   ]
  },
  {
   "cell_type": "markdown",
   "metadata": {},
   "source": [
    "Computing the square of the matrix $D_{N=4}^{2}$"
   ]
  },
  {
   "cell_type": "code",
   "execution_count": 80,
   "metadata": {},
   "outputs": [
    {
     "data": {
      "text/plain": [
       "array([[-5.000000e-01, -3.061617e-17,  5.000000e-01,  3.061617e-17],\n",
       "       [ 3.061617e-17, -5.000000e-01, -3.061617e-17,  5.000000e-01],\n",
       "       [ 5.000000e-01,  3.061617e-17, -5.000000e-01, -3.061617e-17],\n",
       "       [-3.061617e-17,  5.000000e-01,  3.061617e-17, -5.000000e-01]])"
      ]
     },
     "execution_count": 80,
     "metadata": {},
     "output_type": "execute_result"
    }
   ],
   "source": [
    "matrix_power(N4.D,2)"
   ]
  },
  {
   "cell_type": "markdown",
   "metadata": {},
   "source": [
    "Looking at the second derivative matrix using the formulas derived"
   ]
  },
  {
   "cell_type": "code",
   "execution_count": 81,
   "metadata": {},
   "outputs": [
    {
     "data": {
      "text/plain": [
       "array([[-1.5, -1. ,  0.5, -1. ],\n",
       "       [-1. , -1.5, -1. ,  0.5],\n",
       "       [ 0.5, -1. , -1.5, -1. ],\n",
       "       [-1. ,  0.5, -1. , -1.5]])"
      ]
     },
     "execution_count": 81,
     "metadata": {},
     "output_type": "execute_result"
    }
   ],
   "source": [
    "N4.D2"
   ]
  },
  {
   "cell_type": "markdown",
   "metadata": {},
   "source": [
    "We observe that, indeed, for even powers, $D_{N=4}^{2}\\neq D_{N=4}^{(2)}$"
   ]
  },
  {
   "cell_type": "markdown",
   "metadata": {},
   "source": [
    "Computing the spectrum of the derivative matrix gives:"
   ]
  },
  {
   "cell_type": "code",
   "execution_count": 82,
   "metadata": {},
   "outputs": [
    {
     "data": {
      "text/plain": [
       "array([-3.06161700e-17+1.j, -3.06161700e-17-1.j,  2.12984716e-16+0.j, -1.51752377e-16+0.j])"
      ]
     },
     "execution_count": 82,
     "metadata": {},
     "output_type": "execute_result"
    }
   ],
   "source": [
    "N4.D_spectrum"
   ]
  },
  {
   "cell_type": "markdown",
   "metadata": {},
   "source": [
    "Computing the spectral radius of the differentiation matrix for this case:"
   ]
  },
  {
   "cell_type": "code",
   "execution_count": 83,
   "metadata": {},
   "outputs": [
    {
     "data": {
      "text/plain": [
       "1.0"
      ]
     },
     "execution_count": 83,
     "metadata": {},
     "output_type": "execute_result"
    }
   ],
   "source": [
    "N4.D_spectral_rad"
   ]
  },
  {
   "cell_type": "markdown",
   "metadata": {},
   "source": [
    "## Part C"
   ]
  },
  {
   "cell_type": "code",
   "execution_count": 84,
   "metadata": {},
   "outputs": [],
   "source": [
    "class q0c(object):\n",
    "    \n",
    "    def __init__(self, N=3):\n",
    "        \n",
    "        assert (N % 2 == 1), \"N needs to be odd\"\n",
    "        \n",
    "        self.N = N\n",
    "        \n",
    "        self.D = self.calc_D()\n",
    "        self.D2 = self.calc_D2()\n",
    "        \n",
    "        self.D_spectrum = eigvals(self.D)\n",
    "        self.D_spectral_rad = self.D_spectrum.__abs__().max()\n",
    "        \n",
    "    def calc_D(self):\n",
    "        \n",
    "        N = self.N\n",
    "        h = 2*pi/self.N\n",
    "        x = h*arange(1,N+1)\n",
    "        col = zeros(N)\n",
    "        \n",
    "        col[0] = 0.0\n",
    "        col[1:] = 0.5*(-1.0)**arange(1,N)/sin(arange(1,N)*h/2.0)\n",
    "        \n",
    "        row = zeros(N)\n",
    "        row[0] = col[0]\n",
    "        row[1:] = col[N-1:0:-1]\n",
    "        \n",
    "        return toeplitz(col,row)\n",
    "    \n",
    "    def calc_D2(self):\n",
    "        \n",
    "        N = self.N\n",
    "        h = 2*pi/self.N\n",
    "        x = h*arange(1,N+1)\n",
    "        col = zeros(N)\n",
    "        \n",
    "        col[0] = ((1./12)-((pi**2)/(3*h*h)))\n",
    "        col[1:] = -0.5*((-1.0)**arange(1,N))*cos(arange(1,N)*h/2.0)/(sin(arange(1,N)*h/2.0)**2)\n",
    "        \n",
    "        row = zeros(N)\n",
    "        row[0] = col[0]\n",
    "        row[1:] = col[N-1:0:-1]\n",
    "        \n",
    "        return toeplitz(col,row)"
   ]
  },
  {
   "cell_type": "markdown",
   "metadata": {},
   "source": [
    "Creating the object for $N=3$"
   ]
  },
  {
   "cell_type": "code",
   "execution_count": 85,
   "metadata": {},
   "outputs": [],
   "source": [
    "N3 = q0c(N=3)"
   ]
  },
  {
   "cell_type": "markdown",
   "metadata": {},
   "source": [
    "Looking at the differentiation matrix "
   ]
  },
  {
   "cell_type": "code",
   "execution_count": 86,
   "metadata": {},
   "outputs": [
    {
     "data": {
      "text/plain": [
       "array([[ 0.        ,  0.57735027, -0.57735027],\n",
       "       [-0.57735027,  0.        ,  0.57735027],\n",
       "       [ 0.57735027, -0.57735027,  0.        ]])"
      ]
     },
     "execution_count": 86,
     "metadata": {},
     "output_type": "execute_result"
    }
   ],
   "source": [
    "N3.D"
   ]
  },
  {
   "cell_type": "markdown",
   "metadata": {},
   "source": [
    "Taking the square of this matrix"
   ]
  },
  {
   "cell_type": "code",
   "execution_count": 87,
   "metadata": {},
   "outputs": [
    {
     "data": {
      "text/plain": [
       "array([[-0.66666667,  0.33333333,  0.33333333],\n",
       "       [ 0.33333333, -0.66666667,  0.33333333],\n",
       "       [ 0.33333333,  0.33333333, -0.66666667]])"
      ]
     },
     "execution_count": 87,
     "metadata": {},
     "output_type": "execute_result"
    }
   ],
   "source": [
    "matrix_power(N3.D, 2)"
   ]
  },
  {
   "cell_type": "markdown",
   "metadata": {},
   "source": [
    "Looking at the second derivative matrix derived from the formulas"
   ]
  },
  {
   "cell_type": "code",
   "execution_count": 88,
   "metadata": {},
   "outputs": [
    {
     "data": {
      "text/plain": [
       "array([[-0.66666667,  0.33333333,  0.33333333],\n",
       "       [ 0.33333333, -0.66666667,  0.33333333],\n",
       "       [ 0.33333333,  0.33333333, -0.66666667]])"
      ]
     },
     "execution_count": 88,
     "metadata": {},
     "output_type": "execute_result"
    }
   ],
   "source": [
    "N3.D2"
   ]
  },
  {
   "cell_type": "markdown",
   "metadata": {},
   "source": [
    "We observe that, indeed, for odd N $D_{N}^{2} = D_{N}^{(2)}$"
   ]
  },
  {
   "cell_type": "markdown",
   "metadata": {},
   "source": [
    "The spectrum for the differentiation matrix is "
   ]
  },
  {
   "cell_type": "code",
   "execution_count": 89,
   "metadata": {},
   "outputs": [
    {
     "data": {
      "text/plain": [
       "array([ 1.52655666e-16+1.j,  1.52655666e-16-1.j, -2.43353038e-16+0.j])"
      ]
     },
     "execution_count": 89,
     "metadata": {},
     "output_type": "execute_result"
    }
   ],
   "source": [
    "N3.D_spectrum"
   ]
  },
  {
   "cell_type": "markdown",
   "metadata": {},
   "source": [
    "Computing the spectral radius:"
   ]
  },
  {
   "cell_type": "code",
   "execution_count": 90,
   "metadata": {},
   "outputs": [
    {
     "data": {
      "text/plain": [
       "1.0000000000000002"
      ]
     },
     "execution_count": 90,
     "metadata": {},
     "output_type": "execute_result"
    }
   ],
   "source": [
    "N3.D_spectral_rad"
   ]
  }
 ],
 "metadata": {
  "kernelspec": {
   "display_name": "Python 3",
   "language": "python",
   "name": "python3"
  },
  "language_info": {
   "codemirror_mode": {
    "name": "ipython",
    "version": 3
   },
   "file_extension": ".py",
   "mimetype": "text/x-python",
   "name": "python",
   "nbconvert_exporter": "python",
   "pygments_lexer": "ipython3",
   "version": "3.7.4"
  }
 },
 "nbformat": 4,
 "nbformat_minor": 2
}
