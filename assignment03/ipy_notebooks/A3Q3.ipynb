{
 "cells": [
  {
   "cell_type": "code",
   "execution_count": 14,
   "metadata": {},
   "outputs": [],
   "source": [
    "from numpy import cos, zeros, tile, linspace, eye, pi, dot, diag, set_printoptions, finfo\n",
    "set_printoptions(linewidth=500)\n",
    "from numpy.linalg import matrix_power, eigvals, norm"
   ]
  },
  {
   "cell_type": "code",
   "execution_count": 3,
   "metadata": {},
   "outputs": [],
   "source": [
    "def cheb(N):\n",
    "    \"\"\"\n",
    "    Adaptation of Chebyshev Polynomial differentiation matrix from.\n",
    "    Source: Trefethen's 'Spectral Methods in MATLAB'\n",
    "    \"\"\"\n",
    "    \n",
    "    x = cos(pi*linspace(N,0,N+1)/N)\n",
    "    if (N%2 == 0): # check if N is even\n",
    "        x[N//2] = 0.0\n",
    "    c = zeros(N+1)\n",
    "    c[0] = 2.0; c[1:N]=1; c[N]=2.0\n",
    "    c *= (-1)**linspace(0,N,N+1)\n",
    "    X = tile(x, (N+1,1))\n",
    "    dX = X-X.T\n",
    "    D = dot(c.reshape((N+1,1)),(1./c).reshape((1,N+1)))\n",
    "    D /= (dX+eye(N+1))\n",
    "    D -= diag(D.sum(axis=1))\n",
    "    \n",
    "    return D, x"
   ]
  },
  {
   "cell_type": "markdown",
   "metadata": {},
   "source": [
    "# Problem 3"
   ]
  },
  {
   "cell_type": "markdown",
   "metadata": {},
   "source": [
    "## Part C"
   ]
  },
  {
   "cell_type": "markdown",
   "metadata": {},
   "source": [
    "### Case 1: N=5"
   ]
  },
  {
   "cell_type": "code",
   "execution_count": 4,
   "metadata": {},
   "outputs": [
    {
     "name": "stdout",
     "output_type": "stream",
     "text": [
      "True\n"
     ]
    }
   ],
   "source": [
    "N5 = 5\n",
    "D5, _ = cheb(N5)\n",
    "D5_0 = matrix_power(D5, N5)\n",
    "D5_1 = matrix_power(D5, N5+1)\n",
    "\n",
    "# confirm that all entries are at floating point error\n",
    "print((D5_1.__abs__() <= finfo(\"float32\").eps).all())"
   ]
  },
  {
   "cell_type": "markdown",
   "metadata": {},
   "source": [
    "Finding the spectral radius of this matrix"
   ]
  },
  {
   "cell_type": "code",
   "execution_count": 10,
   "metadata": {},
   "outputs": [
    {
     "name": "stdout",
     "output_type": "stream",
     "text": [
      "0.007201636245510306\n"
     ]
    }
   ],
   "source": [
    "N5_spectrum = eigvals(D5)\n",
    "N5_spectral_rad = N5_spectrum.__abs__().max()\n",
    "print(N5_spectral_rad)"
   ]
  },
  {
   "cell_type": "markdown",
   "metadata": {},
   "source": [
    "Finding the matrix-2norm $||D^{N+1}_{N}||$ power"
   ]
  },
  {
   "cell_type": "code",
   "execution_count": 18,
   "metadata": {},
   "outputs": [
    {
     "name": "stdout",
     "output_type": "stream",
     "text": [
      "4.0307427868139904e-11\n"
     ]
    }
   ],
   "source": [
    "N5_mat_2norm = norm(D5_1, ord=2)\n",
    "print(N5_mat_2norm)"
   ]
  },
  {
   "cell_type": "markdown",
   "metadata": {},
   "source": [
    "and we confirm that the matrix two norm for $D_{N}^{N+1}$ in this case is indeed zero as we would expect."
   ]
  },
  {
   "cell_type": "markdown",
   "metadata": {},
   "source": [
    "### Case 2: N = 20"
   ]
  },
  {
   "cell_type": "code",
   "execution_count": 6,
   "metadata": {},
   "outputs": [
    {
     "name": "stdout",
     "output_type": "stream",
     "text": [
      "False\n"
     ]
    }
   ],
   "source": [
    "N20 = 20\n",
    "D20, _ = cheb(N20)\n",
    "D20_0 = matrix_power(D20, N20)\n",
    "D20_1 = matrix_power(D20, N20+1)\n",
    "\n",
    "# confirm that all entries are at floating point error\n",
    "print((D20_1.__abs__() <= finfo(\"float32\").eps).all())"
   ]
  },
  {
   "cell_type": "markdown",
   "metadata": {},
   "source": [
    "We see that this matrix is ill-conditioned because it is poorly behaved at higher matrix powers. It should be zero here; however, we can clearly see that it is not."
   ]
  },
  {
   "cell_type": "markdown",
   "metadata": {},
   "source": [
    "Finding the spectral radius of this matrix"
   ]
  },
  {
   "cell_type": "code",
   "execution_count": 13,
   "metadata": {},
   "outputs": [
    {
     "name": "stdout",
     "output_type": "stream",
     "text": [
      "3.3786248416943883\n"
     ]
    }
   ],
   "source": [
    "N20_spectrum = eigvals(D20)\n",
    "N20_spectral_rad = N20_spectrum.__abs__().max()\n",
    "print(N20_spectral_rad)"
   ]
  },
  {
   "cell_type": "markdown",
   "metadata": {},
   "source": [
    "Finding the matrix-2norm $||D^{N+1}_{N}||_{2}$"
   ]
  },
  {
   "cell_type": "code",
   "execution_count": 17,
   "metadata": {},
   "outputs": [
    {
     "name": "stdout",
     "output_type": "stream",
     "text": [
      "1.4954623264745555e+22\n"
     ]
    }
   ],
   "source": [
    "N20_mat_2norm = norm(D20_1, ord=2)\n",
    "print(N20_mat_2norm)"
   ]
  }
 ],
 "metadata": {
  "kernelspec": {
   "display_name": "Python 3",
   "language": "python",
   "name": "python3"
  },
  "language_info": {
   "codemirror_mode": {
    "name": "ipython",
    "version": 3
   },
   "file_extension": ".py",
   "mimetype": "text/x-python",
   "name": "python",
   "nbconvert_exporter": "python",
   "pygments_lexer": "ipython3",
   "version": "3.7.4"
  }
 },
 "nbformat": 4,
 "nbformat_minor": 2
}
